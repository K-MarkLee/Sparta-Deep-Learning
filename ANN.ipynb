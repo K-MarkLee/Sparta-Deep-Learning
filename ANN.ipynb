{
 "cells": [
  {
   "cell_type": "code",
   "execution_count": 1,
   "metadata": {},
   "outputs": [],
   "source": [
    "import torch\n",
    "import torch.nn as nn\n",
    "import torch.optim as optim\n",
    "import torchvision\n",
    "import torchvision.transforms as transforms"
   ]
  },
  {
   "cell_type": "code",
   "execution_count": 2,
   "metadata": {},
   "outputs": [
    {
     "name": "stdout",
     "output_type": "stream",
     "text": [
      "Downloading http://yann.lecun.com/exdb/mnist/train-images-idx3-ubyte.gz\n",
      "Failed to download (trying next):\n",
      "<urlopen error [SSL: CERTIFICATE_VERIFY_FAILED] certificate verify failed: certificate has expired (_ssl.c:1000)>\n",
      "\n",
      "Downloading https://ossci-datasets.s3.amazonaws.com/mnist/train-images-idx3-ubyte.gz\n",
      "Downloading https://ossci-datasets.s3.amazonaws.com/mnist/train-images-idx3-ubyte.gz to ./data\\MNIST\\raw\\train-images-idx3-ubyte.gz\n"
     ]
    },
    {
     "name": "stderr",
     "output_type": "stream",
     "text": [
      "100%|██████████| 9912422/9912422 [00:04<00:00, 2056365.52it/s]\n"
     ]
    },
    {
     "name": "stdout",
     "output_type": "stream",
     "text": [
      "Extracting ./data\\MNIST\\raw\\train-images-idx3-ubyte.gz to ./data\\MNIST\\raw\n",
      "\n",
      "Downloading http://yann.lecun.com/exdb/mnist/train-labels-idx1-ubyte.gz\n",
      "Failed to download (trying next):\n",
      "<urlopen error [SSL: CERTIFICATE_VERIFY_FAILED] certificate verify failed: certificate has expired (_ssl.c:1000)>\n",
      "\n",
      "Downloading https://ossci-datasets.s3.amazonaws.com/mnist/train-labels-idx1-ubyte.gz\n",
      "Downloading https://ossci-datasets.s3.amazonaws.com/mnist/train-labels-idx1-ubyte.gz to ./data\\MNIST\\raw\\train-labels-idx1-ubyte.gz\n"
     ]
    },
    {
     "name": "stderr",
     "output_type": "stream",
     "text": [
      "100%|██████████| 28881/28881 [00:00<00:00, 142185.72it/s]\n"
     ]
    },
    {
     "name": "stdout",
     "output_type": "stream",
     "text": [
      "Extracting ./data\\MNIST\\raw\\train-labels-idx1-ubyte.gz to ./data\\MNIST\\raw\n",
      "\n",
      "Downloading http://yann.lecun.com/exdb/mnist/t10k-images-idx3-ubyte.gz\n",
      "Failed to download (trying next):\n",
      "<urlopen error [SSL: CERTIFICATE_VERIFY_FAILED] certificate verify failed: certificate has expired (_ssl.c:1000)>\n",
      "\n",
      "Downloading https://ossci-datasets.s3.amazonaws.com/mnist/t10k-images-idx3-ubyte.gz\n",
      "Downloading https://ossci-datasets.s3.amazonaws.com/mnist/t10k-images-idx3-ubyte.gz to ./data\\MNIST\\raw\\t10k-images-idx3-ubyte.gz\n"
     ]
    },
    {
     "name": "stderr",
     "output_type": "stream",
     "text": [
      "100%|██████████| 1648877/1648877 [00:01<00:00, 852633.33it/s] \n"
     ]
    },
    {
     "name": "stdout",
     "output_type": "stream",
     "text": [
      "Extracting ./data\\MNIST\\raw\\t10k-images-idx3-ubyte.gz to ./data\\MNIST\\raw\n",
      "\n",
      "Downloading http://yann.lecun.com/exdb/mnist/t10k-labels-idx1-ubyte.gz\n",
      "Failed to download (trying next):\n",
      "<urlopen error [SSL: CERTIFICATE_VERIFY_FAILED] certificate verify failed: certificate has expired (_ssl.c:1000)>\n",
      "\n",
      "Downloading https://ossci-datasets.s3.amazonaws.com/mnist/t10k-labels-idx1-ubyte.gz\n",
      "Downloading https://ossci-datasets.s3.amazonaws.com/mnist/t10k-labels-idx1-ubyte.gz to ./data\\MNIST\\raw\\t10k-labels-idx1-ubyte.gz\n"
     ]
    },
    {
     "name": "stderr",
     "output_type": "stream",
     "text": [
      "100%|██████████| 4542/4542 [00:00<00:00, 3024373.51it/s]"
     ]
    },
    {
     "name": "stdout",
     "output_type": "stream",
     "text": [
      "Extracting ./data\\MNIST\\raw\\t10k-labels-idx1-ubyte.gz to ./data\\MNIST\\raw\n",
      "\n"
     ]
    },
    {
     "name": "stderr",
     "output_type": "stream",
     "text": [
      "\n"
     ]
    }
   ],
   "source": [
    "# 데이터셋 전처리\n",
    "\n",
    "#transforms.compose를 사용하여()안의 전처리 단계를 순차적으로 적용\n",
    "transform = transforms.Compose([\n",
    "    # 이미지를 pytorch tensor 로 변환\n",
    "    transforms.ToTensor(),\n",
    "\n",
    "    # 평균 0.5 표준편차 0.5로 정규화\n",
    "    transforms.Normalize((0.5,), (0.5,))\n",
    "])\n",
    "\n",
    "# MNIST 데이터셋 로드\n",
    "# root=''를 사용해서 저장 위치 설정 / train true로 학습용 으로 지정/ download true로 다운로드/ transform=transform으로 앞의 전처리 모두 적용\n",
    "trainset = torchvision.datasets.MNIST(root='./data', train=True, download=True, transform=transform)\n",
    "testset = torchvision.datasets.MNIST(root='./data', train=False, download=True, transform=transform)\n",
    "\n",
    "# batch_size는 한번에 모델에 입력가능한 최대의 샘플수 64, 256, 128등 가능 / shuffle은 학습 데이터는 true로 데이터를 섞고 false는 테스트로 순서대로.\n",
    "trainloader = torch.utils.data.DataLoader(trainset, batch_size=64, shuffle=True)\n",
    "testloader = torch.utils.data.DataLoader(testset, batch_size=64, shuffle=False)"
   ]
  },
  {
   "cell_type": "code",
   "execution_count": 3,
   "metadata": {},
   "outputs": [],
   "source": [
    "class SimpleANN(nn.Module):\n",
    "    def __init__(self):\n",
    "        super(SimpleANN, self).__init__()\n",
    "\n",
    "        # 입력층에서 은닉층으로 28*28 픽셀의 이미지 입력을 128개의 은닉충 뉴런으로 \n",
    "        self.fc1 = nn.Linear(28 * 28, 128)  \n",
    "\n",
    "        # 은닉층에서 은닉층으로 128개의 뉴런을 64개의 다른 은닉층 뉴런으로\n",
    "        self.fc2 = nn.Linear(128, 64)    \n",
    "\n",
    "        # 은닉층에서 출력층으로 64개의 뉴런을 10개의 출력층 뉴런으로 (0 - 9)\n",
    "        self.fc3 = nn.Linear(64, 10)       \n",
    "\n",
    "\n",
    "    def forward(self, x):\n",
    "\n",
    "        # 입력 이미지를 1차원 백터로 변환\n",
    "        x = x.view(-1, 28 * 28)  \n",
    "\n",
    "        # fc1과 fc2 의 출력을 렐루 함수로 변환\n",
    "        x = torch.relu(self.fc1(x))\n",
    "        x = torch.relu(self.fc2(x))\n",
    "\n",
    "        x = self.fc3(x)\n",
    "        return x"
   ]
  },
  {
   "cell_type": "code",
   "execution_count": 4,
   "metadata": {},
   "outputs": [
    {
     "name": "stdout",
     "output_type": "stream",
     "text": [
      "[Epoch 1, Batch 100] loss: 1.368\n",
      "[Epoch 1, Batch 200] loss: 0.488\n",
      "[Epoch 1, Batch 300] loss: 0.391\n",
      "[Epoch 1, Batch 400] loss: 0.342\n",
      "[Epoch 1, Batch 500] loss: 0.313\n",
      "[Epoch 1, Batch 600] loss: 0.281\n",
      "[Epoch 1, Batch 700] loss: 0.246\n",
      "[Epoch 1, Batch 800] loss: 0.237\n",
      "[Epoch 1, Batch 900] loss: 0.226\n",
      "[Epoch 2, Batch 100] loss: 0.190\n",
      "[Epoch 2, Batch 200] loss: 0.191\n",
      "[Epoch 2, Batch 300] loss: 0.210\n",
      "[Epoch 2, Batch 400] loss: 0.182\n",
      "[Epoch 2, Batch 500] loss: 0.177\n",
      "[Epoch 2, Batch 600] loss: 0.159\n",
      "[Epoch 2, Batch 700] loss: 0.164\n",
      "[Epoch 2, Batch 800] loss: 0.159\n",
      "[Epoch 2, Batch 900] loss: 0.144\n",
      "[Epoch 3, Batch 100] loss: 0.138\n",
      "[Epoch 3, Batch 200] loss: 0.130\n",
      "[Epoch 3, Batch 300] loss: 0.141\n",
      "[Epoch 3, Batch 400] loss: 0.139\n",
      "[Epoch 3, Batch 500] loss: 0.123\n",
      "[Epoch 3, Batch 600] loss: 0.127\n",
      "[Epoch 3, Batch 700] loss: 0.132\n",
      "[Epoch 3, Batch 800] loss: 0.123\n",
      "[Epoch 3, Batch 900] loss: 0.112\n",
      "[Epoch 4, Batch 100] loss: 0.111\n",
      "[Epoch 4, Batch 200] loss: 0.107\n",
      "[Epoch 4, Batch 300] loss: 0.104\n",
      "[Epoch 4, Batch 400] loss: 0.097\n",
      "[Epoch 4, Batch 500] loss: 0.098\n",
      "[Epoch 4, Batch 600] loss: 0.111\n",
      "[Epoch 4, Batch 700] loss: 0.096\n",
      "[Epoch 4, Batch 800] loss: 0.102\n",
      "[Epoch 4, Batch 900] loss: 0.099\n",
      "[Epoch 5, Batch 100] loss: 0.086\n",
      "[Epoch 5, Batch 200] loss: 0.087\n",
      "[Epoch 5, Batch 300] loss: 0.094\n",
      "[Epoch 5, Batch 400] loss: 0.083\n",
      "[Epoch 5, Batch 500] loss: 0.082\n",
      "[Epoch 5, Batch 600] loss: 0.095\n",
      "[Epoch 5, Batch 700] loss: 0.085\n",
      "[Epoch 5, Batch 800] loss: 0.079\n",
      "[Epoch 5, Batch 900] loss: 0.088\n",
      "[Epoch 6, Batch 100] loss: 0.082\n",
      "[Epoch 6, Batch 200] loss: 0.064\n",
      "[Epoch 6, Batch 300] loss: 0.081\n",
      "[Epoch 6, Batch 400] loss: 0.081\n",
      "[Epoch 6, Batch 500] loss: 0.072\n",
      "[Epoch 6, Batch 600] loss: 0.076\n",
      "[Epoch 6, Batch 700] loss: 0.080\n",
      "[Epoch 6, Batch 800] loss: 0.085\n",
      "[Epoch 6, Batch 900] loss: 0.076\n",
      "[Epoch 7, Batch 100] loss: 0.080\n",
      "[Epoch 7, Batch 200] loss: 0.067\n",
      "[Epoch 7, Batch 300] loss: 0.057\n",
      "[Epoch 7, Batch 400] loss: 0.062\n",
      "[Epoch 7, Batch 500] loss: 0.056\n",
      "[Epoch 7, Batch 600] loss: 0.075\n",
      "[Epoch 7, Batch 700] loss: 0.061\n",
      "[Epoch 7, Batch 800] loss: 0.060\n",
      "[Epoch 7, Batch 900] loss: 0.071\n",
      "[Epoch 8, Batch 100] loss: 0.040\n",
      "[Epoch 8, Batch 200] loss: 0.050\n",
      "[Epoch 8, Batch 300] loss: 0.071\n",
      "[Epoch 8, Batch 400] loss: 0.058\n",
      "[Epoch 8, Batch 500] loss: 0.055\n",
      "[Epoch 8, Batch 600] loss: 0.051\n",
      "[Epoch 8, Batch 700] loss: 0.059\n",
      "[Epoch 8, Batch 800] loss: 0.066\n",
      "[Epoch 8, Batch 900] loss: 0.072\n",
      "[Epoch 9, Batch 100] loss: 0.046\n",
      "[Epoch 9, Batch 200] loss: 0.044\n",
      "[Epoch 9, Batch 300] loss: 0.053\n",
      "[Epoch 9, Batch 400] loss: 0.045\n",
      "[Epoch 9, Batch 500] loss: 0.051\n",
      "[Epoch 9, Batch 600] loss: 0.058\n",
      "[Epoch 9, Batch 700] loss: 0.057\n",
      "[Epoch 9, Batch 800] loss: 0.050\n",
      "[Epoch 9, Batch 900] loss: 0.048\n",
      "[Epoch 10, Batch 100] loss: 0.054\n",
      "[Epoch 10, Batch 200] loss: 0.054\n",
      "[Epoch 10, Batch 300] loss: 0.037\n",
      "[Epoch 10, Batch 400] loss: 0.055\n",
      "[Epoch 10, Batch 500] loss: 0.045\n",
      "[Epoch 10, Batch 600] loss: 0.040\n",
      "[Epoch 10, Batch 700] loss: 0.042\n",
      "[Epoch 10, Batch 800] loss: 0.039\n",
      "[Epoch 10, Batch 900] loss: 0.047\n",
      "Finished Training\n"
     ]
    }
   ],
   "source": [
    "# 모델 초기화\n",
    "model = SimpleANN()\n",
    "\n",
    "# 손실 함수와 최적화 알고리즘 정의\n",
    "criterion = nn.CrossEntropyLoss()\n",
    "optimizer = optim.SGD(model.parameters(), lr=0.01, momentum=0.9)\n",
    "\n",
    "# 모델 학습\n",
    "# 10 에포크 동안 학습\n",
    "num_epochs = 10\n",
    "\n",
    "for epoch in num_epochs:  \n",
    "    running_loss = 0.0\n",
    "    for i, data in enumerate(trainloader, 0):\n",
    "        inputs, labels = data\n",
    "\n",
    "        # 기울기 초기화\n",
    "        optimizer.zero_grad()\n",
    "\n",
    "        # 순전파 + 역전파 + 최적화\n",
    "        outputs = model(inputs)\n",
    "        loss = criterion(outputs, labels)\n",
    "        loss.backward()\n",
    "        optimizer.step()\n",
    "\n",
    "        # 손실 출력\n",
    "        running_loss += loss.item()\n",
    "        if i % 100 == 99:  # 매 100 미니배치마다 출력\n",
    "            print(f'[Epoch {epoch + 1}, Batch {i + 1}] loss: {running_loss / 100:.3f}')\n",
    "            running_loss = 0.0\n",
    "\n",
    "print('Finished Training')"
   ]
  },
  {
   "cell_type": "code",
   "execution_count": 5,
   "metadata": {},
   "outputs": [
    {
     "name": "stdout",
     "output_type": "stream",
     "text": [
      "Accuracy of the network on the 10000 test images: 97.69%\n"
     ]
    }
   ],
   "source": [
    "correct = 0\n",
    "total = 0\n",
    "with torch.no_grad():\n",
    "    for data in testloader:\n",
    "        images, labels = data\n",
    "        outputs = model(images)\n",
    "        _, predicted = torch.max(outputs.data, 1)\n",
    "        total += labels.size(0)\n",
    "        correct += (predicted == labels).sum().item()\n",
    "\n",
    "print(f'Accuracy of the network on the 10000 test images: {100 * correct / total:.2f}%')\n"
   ]
  }
 ],
 "metadata": {
  "kernelspec": {
   "display_name": "machine-learning",
   "language": "python",
   "name": "python3"
  },
  "language_info": {
   "codemirror_mode": {
    "name": "ipython",
    "version": 3
   },
   "file_extension": ".py",
   "mimetype": "text/x-python",
   "name": "python",
   "nbconvert_exporter": "python",
   "pygments_lexer": "ipython3",
   "version": "3.12.7"
  }
 },
 "nbformat": 4,
 "nbformat_minor": 2
}
